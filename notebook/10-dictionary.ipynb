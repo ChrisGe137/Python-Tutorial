{
 "cells": [
  {
   "cell_type": "markdown",
   "id": "49b016ee",
   "metadata": {},
   "source": [
    "# 字典（Dictionary）\n",
    "\n",
    "## 什么是字典\n",
    "\n",
    "字典（Dictionary）是 Python 提供的一种常用数据结构。不同于其他种数据结构，字典的每一项都是一个键值对（key：value）。其中 key 与 value 可以为任意数据类型。在 Python 中，我们用 : 来分割每个键值对，并用 { } 将整个字典包括其中。\n",
    "\n",
    "现在我们要建立一个考生姓名与考生分数的映射字典，其中考生小张分数为80分，考生小李分数为90分。在 Python 中表示如下："
   ]
  },
  {
   "cell_type": "code",
   "execution_count": null,
   "id": "46e13611",
   "metadata": {
    "lines_to_next_cell": 0
   },
   "outputs": [],
   "source": [
    "Dic = {'小张' : 80, '小李' : 90}"
   ]
  },
  {
   "cell_type": "markdown",
   "id": "04c7320c",
   "metadata": {
    "lines_to_next_cell": 0
   },
   "source": [
    "## 创建字典\n",
    "建立字典的方法有很多种，下面我们将依次介绍不同情况下建立字典的方法：\n",
    "\n",
    "建立空字典："
   ]
  },
  {
   "cell_type": "code",
   "execution_count": null,
   "id": "d75e28fb",
   "metadata": {
    "lines_to_next_cell": 0
   },
   "outputs": [],
   "source": [
    "Dic = {}"
   ]
  },
  {
   "cell_type": "markdown",
   "id": "1eff4fa4",
   "metadata": {
    "lines_to_next_cell": 0
   },
   "source": [
    "建立含键值对的字典："
   ]
  },
  {
   "cell_type": "code",
   "execution_count": null,
   "id": "4b741f6b",
   "metadata": {
    "lines_to_next_cell": 0
   },
   "outputs": [],
   "source": [
    "Dic = {'name' : '小张', 'score' : 90}"
   ]
  },
  {
   "cell_type": "markdown",
   "id": "1ebcb5f0",
   "metadata": {
    "lines_to_next_cell": 0
   },
   "source": [
    "使用 dict() 函数："
   ]
  },
  {
   "cell_type": "code",
   "execution_count": null,
   "id": "571605ea",
   "metadata": {
    "lines_to_next_cell": 0
   },
   "outputs": [],
   "source": [
    "Dic = dict({'小张' : 80, '小李' : 90})"
   ]
  },
  {
   "cell_type": "markdown",
   "id": "27225eaa",
   "metadata": {
    "lines_to_next_cell": 0
   },
   "source": [
    "## 访问字典\n",
    "在 Python 中，我们可以直接将键放到方括号中获取值，也可以使用 get() 方法获取。\n",
    "\n",
    "使用方括号："
   ]
  },
  {
   "cell_type": "code",
   "execution_count": null,
   "id": "277ee044",
   "metadata": {
    "lines_to_next_cell": 0
   },
   "outputs": [],
   "source": [
    "Dic['小张']"
   ]
  },
  {
   "cell_type": "markdown",
   "id": "28fac2d4",
   "metadata": {
    "lines_to_next_cell": 0
   },
   "source": [
    "使用 get() 方法："
   ]
  },
  {
   "cell_type": "code",
   "execution_count": null,
   "id": "afb10772",
   "metadata": {},
   "outputs": [],
   "source": [
    "Dic.get('小张')"
   ]
  },
  {
   "cell_type": "markdown",
   "id": "affe328f",
   "metadata": {},
   "source": [
    "## 修改字典\n",
    "我们可以对字典中的键值对进行增加、更改或者删除。\n",
    "\n",
    "其中对于增加和更改字典中的键值对，我们直接对键进行赋值，如果字典中不存在这个键，就会增加新的键值对，如果字典中已经存在这个键，字典中该键对应的值将会进行更新。具体方法如下："
   ]
  },
  {
   "cell_type": "code",
   "execution_count": null,
   "id": "4fd0cf5a",
   "metadata": {
    "lines_to_next_cell": 0
   },
   "outputs": [],
   "source": [
    "Dic['小张'] = 100"
   ]
  },
  {
   "cell_type": "markdown",
   "id": "95e9943c",
   "metadata": {
    "lines_to_next_cell": 0
   },
   "source": [
    "当需要对字典中的键值进行删除时，我们可以根据情况完成以下删除任务。\n",
    "\n",
    "删除指定键值对："
   ]
  },
  {
   "cell_type": "code",
   "execution_count": null,
   "id": "82f98000",
   "metadata": {
    "lines_to_next_cell": 0
   },
   "outputs": [],
   "source": [
    "del Dic['小张']"
   ]
  },
  {
   "cell_type": "markdown",
   "id": "4cd654ea",
   "metadata": {
    "lines_to_next_cell": 0
   },
   "source": [
    "删除全部键值对："
   ]
  },
  {
   "cell_type": "code",
   "execution_count": null,
   "id": "323670ce",
   "metadata": {
    "lines_to_next_cell": 0
   },
   "outputs": [],
   "source": [
    "Dic.clear()"
   ]
  },
  {
   "cell_type": "markdown",
   "id": "02f60668",
   "metadata": {
    "lines_to_next_cell": 0
   },
   "source": [
    "删除整个字典："
   ]
  },
  {
   "cell_type": "code",
   "execution_count": null,
   "id": "3572c220",
   "metadata": {
    "lines_to_next_cell": 2
   },
   "outputs": [],
   "source": [
    "del Dic"
   ]
  },
  {
   "cell_type": "markdown",
   "id": "0638231a",
   "metadata": {},
   "source": [
    "到这里你将掌握以下内容：\n",
    "+ 什么是字典以及如何创建字典。\n",
    "+ 如何访问以及修改字典。"
   ]
  }
 ],
 "metadata": {
  "jupytext": {
   "cell_metadata_filter": "-all",
   "notebook_metadata_filter": "-all",
   "text_representation": {
    "extension": ".md",
    "format_name": "markdown"
   }
  },
  "kernelspec": {
   "display_name": "Python 3",
   "language": "python",
   "name": "python3"
  }
 },
 "nbformat": 4,
 "nbformat_minor": 5
}
